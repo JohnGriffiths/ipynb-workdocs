{
 "metadata": {
  "css": [
   ""
  ],
  "name": "",
  "signature": "sha256:67656960de55db598a21b757572a324527d0d81f34ceb8dffbddd38c9e8c1df5"
 },
 "nbformat": 3,
 "nbformat_minor": 0,
 "worksheets": [
  {
   "cells": [
    {
     "cell_type": "heading",
     "level": 1,
     "metadata": {},
     "source": [
      "Example 3 - ipynb-workdocs pure python option"
     ]
    },
    {
     "cell_type": "markdown",
     "metadata": {},
     "source": [
      "...to do..."
     ]
    },
    {
     "cell_type": "code",
     "collapsed": false,
     "input": [],
     "language": "python",
     "metadata": {
      "run_control": {
       "state": "n"
      }
     },
     "outputs": []
    }
   ],
   "metadata": {}
  }
 ]
}