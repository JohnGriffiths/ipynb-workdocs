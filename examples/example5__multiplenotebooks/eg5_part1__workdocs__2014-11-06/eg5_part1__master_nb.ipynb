{
 "metadata": {
  "celltoolbar": "ipynb-workdocs-0.2 tags",
  "name": "",
  "signature": "sha256:f5f11dd6fdfc995579ed8d93a2d05ab44f48b18e56f9859b05eb60cf34dd065c"
 },
 "nbformat": 3,
 "nbformat_minor": 0,
 "worksheets": [
  {
   "cells": [
    {
     "cell_type": "heading",
     "level": 1,
     "metadata": {
      "cell_tags": {
       "html": true,
       "pdf": true
      }
     },
     "source": [
      "Part 1"
     ]
    },
    {
     "cell_type": "markdown",
     "metadata": {
      "cell_tags": {
       "html": false,
       "pdf": true
      }
     },
     "source": [
      "blah blah"
     ]
    },
    {
     "cell_type": "code",
     "collapsed": false,
     "input": [],
     "language": "python",
     "metadata": {
      "cell_tags": {
       "html": true,
       "pdf": true
      }
     },
     "outputs": []
    }
   ],
   "metadata": {}
  }
 ]
}