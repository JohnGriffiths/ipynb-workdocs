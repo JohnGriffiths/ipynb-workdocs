{
 "metadata": {
  "celltoolbar": "ipynb-workdocs-0.2 tags",
  "name": "",
  "signature": "sha256:59f034e0435efcb47e6ef03a30c413bc4ae85e9bc04246b1be9fdfc97e5fda57"
 },
 "nbformat": 3,
 "nbformat_minor": 0,
 "worksheets": [
  {
   "cells": [
    {
     "cell_type": "heading",
     "level": 1,
     "metadata": {
      "cell_tags": {
       "html": true,
       "pdf": true
      }
     },
     "source": [
      "Part 2"
     ]
    },
    {
     "cell_type": "markdown",
     "metadata": {
      "cell_tags": {
       "html": true,
       "pdf": true
      }
     },
     "source": [
      "blah blah"
     ]
    },
    {
     "cell_type": "code",
     "collapsed": false,
     "input": [],
     "language": "python",
     "metadata": {
      "cell_tags": {
       "html": true,
       "pdf": true
      }
     },
     "outputs": []
    }
   ],
   "metadata": {}
  }
 ]
}