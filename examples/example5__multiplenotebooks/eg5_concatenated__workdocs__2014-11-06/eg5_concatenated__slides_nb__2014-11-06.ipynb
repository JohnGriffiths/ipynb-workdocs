{
 "metadata": {
  "celltoolbar": "ipynb-workdocs-0.2 tags",
  "name": "_merged",
  "signature": "sha256:f5f11dd6fdfc995579ed8d93a2d05ab44f48b18e56f9859b05eb60cf34dd065c"
 },
 "nbformat": 3,
 "nbformat_minor": 0,
 "worksheets": [
  {
   "cells": [],
   "metadata": {}
  }
 ]
}