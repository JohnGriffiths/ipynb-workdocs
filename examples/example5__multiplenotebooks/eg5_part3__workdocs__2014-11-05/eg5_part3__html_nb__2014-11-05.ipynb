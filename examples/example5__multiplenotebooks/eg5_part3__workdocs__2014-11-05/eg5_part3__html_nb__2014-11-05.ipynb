{
 "metadata": {
  "celltoolbar": "ipynb-workdocs-0.2 tags",
  "name": "",
  "signature": "sha256:0375e19139a13dbad2b0830fea8d03f710d71947adc5b37a6d88464184e526f8"
 },
 "nbformat": 3,
 "nbformat_minor": 0,
 "worksheets": [
  {
   "cells": [
    {
     "cell_type": "heading",
     "level": 1,
     "metadata": {
      "cell_tags": {
       "html": true,
       "pdf": true
      }
     },
     "source": [
      "Part 3"
     ]
    },
    {
     "cell_type": "markdown",
     "metadata": {
      "cell_tags": {
       "html": true,
       "pdf": true
      }
     },
     "source": [
      "blah blah\n"
     ]
    },
    {
     "cell_type": "code",
     "collapsed": false,
     "input": [],
     "language": "python",
     "metadata": {
      "cell_tags": {
       "html": true,
       "pdf": true
      }
     },
     "outputs": []
    }
   ],
   "metadata": {}
  }
 ]
}