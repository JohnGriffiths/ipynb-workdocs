{
 "metadata": {
  "celltoolbar": "ipynb-workdocs-0.2 tags",
  "name": "_merged",
  "signature": "sha256:80054b25dcb84db085257186dbd380cdf939fc42339bb3e5b881552095d34ac6"
 },
 "nbformat": 3,
 "nbformat_minor": 0,
 "worksheets": [
  {
   "cells": [],
   "metadata": {}
  }
 ]
}