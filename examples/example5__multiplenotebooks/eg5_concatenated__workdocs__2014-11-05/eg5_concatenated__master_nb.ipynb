{
 "metadata": {
  "celltoolbar": "ipynb-workdocs-0.2 tags",
  "name": "_merged",
  "signature": "sha256:80054b25dcb84db085257186dbd380cdf939fc42339bb3e5b881552095d34ac6"
 },
 "nbformat": 3,
 "nbformat_minor": 0,
 "worksheets": [
  {
   "cells": [
    {
     "cell_type": "heading",
     "level": 1,
     "metadata": {
      "cell_tags": {
       "html": true,
       "pdf": true
      }
     },
     "source": [
      "Part 1"
     ]
    },
    {
     "cell_type": "markdown",
     "metadata": {
      "cell_tags": {
       "html": true,
       "pdf": true
      }
     },
     "source": [
      "blah blah"
     ]
    },
    {
     "cell_type": "code",
     "collapsed": false,
     "input": [],
     "language": "python",
     "metadata": {
      "cell_tags": {
       "html": true,
       "pdf": true
      }
     },
     "outputs": []
    },
    {
     "cell_type": "heading",
     "level": 1,
     "metadata": {
      "cell_tags": {
       "html": true,
       "pdf": true
      }
     },
     "source": [
      "Part 2"
     ]
    },
    {
     "cell_type": "markdown",
     "metadata": {
      "cell_tags": {
       "html": true,
       "pdf": true
      }
     },
     "source": [
      "blah blah"
     ]
    },
    {
     "cell_type": "code",
     "collapsed": false,
     "input": [],
     "language": "python",
     "metadata": {
      "cell_tags": {
       "html": true,
       "pdf": true
      }
     },
     "outputs": []
    },
    {
     "cell_type": "heading",
     "level": 1,
     "metadata": {
      "cell_tags": {
       "html": true,
       "pdf": true
      }
     },
     "source": [
      "Part 3"
     ]
    },
    {
     "cell_type": "markdown",
     "metadata": {
      "cell_tags": {
       "html": true,
       "pdf": true
      }
     },
     "source": [
      "blah blah\n"
     ]
    },
    {
     "cell_type": "code",
     "collapsed": false,
     "input": [],
     "language": "python",
     "metadata": {
      "cell_tags": {
       "html": true,
       "pdf": true
      }
     },
     "outputs": []
    }
   ],
   "metadata": {}
  }
 ]
}
