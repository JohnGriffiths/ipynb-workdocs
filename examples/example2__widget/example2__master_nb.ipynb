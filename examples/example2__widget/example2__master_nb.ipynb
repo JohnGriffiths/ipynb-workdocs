{
 "metadata": {
  "css": [
   ""
  ],
  "name": "",
  "signature": "sha256:af1377809bca3188f13b669166d5d5826d14f943bcfc1afd23085a1cd62c63d9"
 },
 "nbformat": 3,
 "nbformat_minor": 0,
 "worksheets": [
  {
   "cells": [
    {
     "cell_type": "heading",
     "level": 1,
     "metadata": {},
     "source": [
      "Example2 - ipynb-workdocs widget"
     ]
    },
    {
     "cell_type": "markdown",
     "metadata": {},
     "source": [
      "...to do..."
     ]
    },
    {
     "cell_type": "code",
     "collapsed": false,
     "input": [],
     "language": "python",
     "metadata": {
      "run_control": {
       "state": "n"
      }
     },
     "outputs": []
    }
   ],
   "metadata": {}
  }
 ]
}