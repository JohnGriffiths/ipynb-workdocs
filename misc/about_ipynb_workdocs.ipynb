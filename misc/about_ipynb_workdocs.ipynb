{
 "metadata": {
  "celltoolbar": "Raw Cell Format",
  "css": [
   ""
  ],
  "name": "",
  "signature": "sha256:7d463469172bbb71ec8dee12fddf318c24a6858535853b67958968bd69093e60"
 },
 "nbformat": 3,
 "nbformat_minor": 0,
 "worksheets": [
  {
   "cells": [
    {
     "cell_type": "heading",
     "level": 1,
     "metadata": {},
     "source": [
      "ipynb workdocs\n"
     ]
    },
    {
     "cell_type": "markdown",
     "metadata": {},
     "source": [
      "A simple system for reproducible research documentation."
     ]
    },
    {
     "cell_type": "markdown",
     "metadata": {},
     "source": [
      "---"
     ]
    },
    {
     "cell_type": "heading",
     "level": 2,
     "metadata": {},
     "source": [
      "What's this then?\n"
     ]
    },
    {
     "cell_type": "markdown",
     "metadata": {},
     "source": [
      "The aim is to facilitate a document-as-you-go workflow for research and other walks of life. \n",
      "\n",
      "Three important features of such a workflow are: \n",
      "\n",
      "\n",
      "1. **Reproducibility**. Including *speed of*, *transparency of* and *ease of*.  \n",
      "2. **Efficiency**. I don't want to spend additional time going back and documenting what I've done. I want to do it along the way. And I don't want to have to make different files for documenting and sharing and presenting stuff in different contexts. That leads to diffusion of information (across multiple files) and rapid propagation of multiple files. \n",
      "\n",
      "\n",
      "This pitch is not original and in fact is becoming increasingly recognized and en vogue. And as a result the good people at IPython have developed a number of excellent tools that facilitate these objectives. \n",
      "\n",
      "\n",
      "With *ipynb workdocs* I am simply applying these tools in the way that best suits the needs of myself, my colleagues, and anyone else who might find it useful. \n",
      "\n",
      "\n",
      "The bread and butter of this is the simple research report, of the 'here you go boss, this is what I did, and this is what the result was' variety. Could be the summary of a few hours' work or a few days' work. The key thing is to have as an end-product \n",
      "\n",
      "- an ipython notebook, from which are generated\n",
      "- a pdf\n",
      "- a static html file ( + web link, e.g. nbviewer)\n",
      "- a web-based slideshow (e.g. slideviewer or gh-pages)\n",
      "- possibly also: sphinx web pages, rst, markdown\n",
      "- if at all possible: something like a powerpoint type file\n",
      "\n",
      "As far as possible the notebook should be one-click runnable to reproduce any analysis and figures content. For long analyses or when data access is highly restricted this may not be practicable all of the time, but this should be the aim. \n",
      "\n",
      "Again, these all come pretty easily from IPython tools that are becoming pretty standard. I'm just providing templates and extra functions so that I one can sit down and crack these out a rapid pace. "
     ]
    },
    {
     "cell_type": "markdown",
     "metadata": {},
     "source": [
      "---"
     ]
    },
    {
     "cell_type": "heading",
     "level": 2,
     "metadata": {},
     "source": [
      "Enough talk. How does it work?"
     ]
    },
    {
     "cell_type": "markdown",
     "metadata": {},
     "source": [
      "The basis idea is that you have a 'master' notebook containing 'everything', which is then wittled down for specific use cases. \n",
      "\n",
      "There are two steps of 'wittling'. \n",
      "\n",
      "- Remove all rough notes from the master notebook. \n",
      "- Convert this smartened-up notebook to static html, PDF and slides. \n",
      "\n",
      "The input to the first stage is the master notebook. The input to the second stage is the output from the first stage.\n",
      "\n",
      "What gets snipped is defined by a custom set of cell tags. To do this I am using modified versions of the tools provided in jonathan frederic's 'notebook cherry picker' repo. "
     ]
    },
    {
     "cell_type": "code",
     "collapsed": false,
     "input": [
      "%matplotlib inline\n",
      "from matplotlib import pyplot as plt\n",
      "%load_ext hierarchymagic\n",
      "from hierarchymagic import run_dot\n",
      "from IPython.display import Image\n",
      "\n",
      "cmd = \"\"\"\\\n",
      "diGraph G{labelloc=\"t\"; label=\"\";\n",
      "          subgraph cluster  {\n",
      "          style=invis\n",
      "          graph [shape=circle];\n",
      "          node [color=lightblue2, style=filled]; \n",
      "          \n",
      "          Notebook_Master[color=lightgray];\n",
      "        \n",
      "          Notebook[color=lightgray];\n",
      "          Slides_Notebook[color=lightgray];\n",
      "          PDF_Notebook[color=lightgray];\n",
      "          HTML_Notebook[color=lightgray];\n",
      "        \n",
      "          Slides_file[color=lightgray];\n",
      "          PDF_file[color=lightgray];\n",
      "          HTML_file[color=lightgray];\n",
      "        \n",
      "          Notebook_Master->Notebook;\n",
      "          \n",
      "          Notebook->PDF_Notebook;\n",
      "          Notebook->Slides_Notebook;\n",
      "          Notebook->HTML_Notebook;\n",
      "          \n",
      "          PDF_Notebook->PDF_file\n",
      "          Slides_Notebook->Slides_file\n",
      "          HTML_Notebook->HTML_file[color=lightgrey];\n",
      "          \n",
      "          }\n",
      "}\n",
      "          \"\"\"\n",
      "\n",
      "\n",
      "\n",
      "\n",
      "\"\"\"\n",
      "fig, ax =plt.subplots(nrows=1,ncols=1,figsize=(8,3))\n",
      "ax.imshow(plt.imread(tmpfile))\n",
      "#ax.imshow()\n",
      "\n",
      "for a_it, a in enumerate([ax]):\n",
      " #a.imshow(plt.imread('figures/digraph_tmp_%s' %(a_it+1)))\n",
      " #a.xaxis.set_visible(False)\n",
      " #a.yaxis.set_visible(False)\n",
      " #a.set_frame_on(False)\n",
      " a.axis('off')\n",
      "\n",
      "fname = '/tmp/Ch3_subheading_graph.png'\n",
      "\n",
      "#plt.tight_layout()\n",
      "#fig.savefig()\n",
      "fig.savefig(fname, dpi=300, transparent=True)#, bbox_inches='tight',pad=2)\n",
      "plt.close()\n",
      "\n",
      "#from IPython.display import HTML, Image, display\n",
      "#display(HTML('<center>'),Image(fname),HTML('</center>'))\n",
      "Image(fname)\n",
      "\"\"\";\n",
      "\n",
      "\n",
      "tmpfile = '/tmp/digraph_tmp.png'\n",
      "with open(tmpfile, 'w') as f: f.write(run_dot(cmd))\n",
      "Image(tmpfile,width=\"100%\")\n"
     ],
     "language": "python",
     "metadata": {
      "input_collapsed": false,
      "run_control": {
       "breakpoint": false,
       "read_only": false
      }
     },
     "outputs": [
      {
       "metadata": {
        "png": {
         "width": "100%"
        }
       },
       "output_type": "pyout",
       "png": "[encoded data removed]",
       "prompt_number": 3,
       "text": [
        "<IPython.core.display.Image object>"
       ]
      }
     ],
     "prompt_number": 3
    },
    {
     "cell_type": "markdown",
     "metadata": {},
     "source": [
      "At present I have four 'modes of consumption' in mind: \n",
      "\n",
      "- *in-notebook* - for everyday use and 'on the ground' discussion/sharing with colleagues\n",
      "- *nbviewer* - effectively a static website. All analysis and figures code is retained; similar sharing function as above but with a more permanent reference location\n",
      "- *pdf* - For summaries and dissemination. Long analysis code is snipped out.  \n",
      "- *slides* - For meetings and talks. Only key summary bullet points and figures used.\n",
      "\n",
      "As a general rule, the idea is to try to use the same cells for nbviewer, PDF, and slides. But the system allows for specific additions or exclusions for each of these. \n",
      "\n",
      "\n",
      "The repo provides template notebooks for a few different use cases - one-off report, rolling documentation ('rolldoc'), quick notes, tutorials, general notes, academic papers, dissertations, etc. \n",
      "\n",
      "\n",
      "Each template has an nbconvert section at the end containing the code necesssary to achieve all this. "
     ]
    },
    {
     "cell_type": "markdown",
     "metadata": {},
     "source": [
      "---"
     ]
    },
    {
     "cell_type": "heading",
     "level": 2,
     "metadata": {},
     "source": [
      "Custom config files"
     ]
    },
    {
     "cell_type": "code",
     "collapsed": false,
     "input": [
      "%%writefile nbc_config__remove_rough_notes.py\n",
      "\n",
      "c = get_config()\n",
      "c.Exporter.preprocessors = ['cherry_picking_preprocessor.CherryPickingPreprocessor']\n",
      "c.NbConvertApp.writer_class = 'notebook_copy_writer.NotebookCopyWriter'\n",
      "c.CherryPickingPreprocessor.expression = 'not rough_notes'\n"
     ],
     "language": "python",
     "metadata": {
      "run_control": {
       "breakpoint": false,
       "read_only": false
      }
     },
     "outputs": []
    },
    {
     "cell_type": "code",
     "collapsed": false,
     "input": [
      "%%writefile nbc_config__make_html.py\n",
      "\n",
      "c = get_config()\n",
      "c.Exporter.preprocessors = ['cherry_picking_preprocessor.CherryPickingPreprocessor']\n",
      "c.NbConvertApp.writer_class = 'notebook_copy_writer.NotebookCopyWriter'\n",
      "c.CherryPickingPreprocessor.expression = 'not html_omit'\n"
     ],
     "language": "python",
     "metadata": {
      "run_control": {
       "breakpoint": false,
       "read_only": false
      }
     },
     "outputs": []
    },
    {
     "cell_type": "code",
     "collapsed": false,
     "input": [
      "%%writefile nbc_config__make_pdf.py\n",
      "\n",
      "c = get_config()\n",
      "c.Exporter.preprocessors = ['cherry_picking_preprocessor.CherryPickingPreprocessor']\n",
      "c.NbConvertApp.writer_class = 'notebook_copy_writer.NotebookCopyWriter'\n",
      "c.CherryPickingPreprocessor.expression = 'not pdf_omit'\n"
     ],
     "language": "python",
     "metadata": {
      "run_control": {
       "breakpoint": false,
       "read_only": false
      }
     },
     "outputs": []
    },
    {
     "cell_type": "code",
     "collapsed": false,
     "input": [
      "%%writefile nbc_config__make_slides.py\n",
      "\n",
      "c = get_config()\n",
      "c.Exporter.preprocessors = ['cherry_picking_preprocessor.CherryPickingPreprocessor']\n",
      "c.NbConvertApp.writer_class = 'notebook_copy_writer.NotebookCopyWriter'\n",
      "c.CherryPickingPreprocessor.expression = 'not slides_omit'\n"
     ],
     "language": "python",
     "metadata": {
      "run_control": {
       "breakpoint": false,
       "read_only": false
      }
     },
     "outputs": []
    },
    {
     "cell_type": "markdown",
     "metadata": {},
     "source": [
      "example..."
     ]
    },
    {
     "cell_type": "heading",
     "level": 2,
     "metadata": {},
     "source": [
      "Notes\n"
     ]
    },
    {
     "cell_type": "markdown",
     "metadata": {},
     "source": [
      "Each notebook, and the various nbconvert output files, should all contain links to the other files in the 'set'. \n",
      "\n",
      "Should also contain links to a generic info notebook that has any important details that one wouldn't want to include in every single file. \n",
      "\n",
      "Want an automatically generated TOC.\n",
      "\n",
      "Need to have smart and appropriate facility for sets of files; work instalments; updates; etc. \n",
      "\n",
      "Perhaps some degree of automatic generation may be useful there. \n",
      "\n",
      "(see other notes in notes file in my neurodebian thesis folder...)\n",
      "\n",
      "\n",
      "\n",
      "A key design decision is going to be: how to have / filter comments\n",
      " - probably best to have a 'my personal' version of docs that include comments I do or do not want to be shared with people\n",
      " - ...and then nbconvert - filter them out. With notebook cherry pick etc. \n",
      " - ...then THAT becomes the 'final' notebook that is seen and produces the files. \n",
      "\n",
      "Some people have done stuff like this based on contents of cells. Others have done it based on cell metadata and tags. \n",
      "which of those works best? \n",
      "\n",
      "\n",
      "Need to figure out how best to deal with version control here. \n",
      "Could to it intelligently with git. \n",
      "Or probably better to just have separate files / folders for everything that is handed over\n",
      "...possible issue could be if there are lots of embedded images these could get big\n",
      "...probably not worth worrying about that\n",
      "\n",
      "\n",
      "Have a 'classes' or 'functions' notebook / .py file that defines a load of useful things\n",
      "you would want to have relative file paths? \n",
      "\n",
      "\n",
      "Make good use of git annex!\n",
      "\n",
      "\n",
      "Thought: have a 'dependencies' section; e.g. 'uses data files x, x, x'; so that you can know what the requirements are for running \n",
      "...could perhaps generate that automatically from the master with some kind of custom nbconvert stuff?\n",
      "(BUT really don't want to go overkill here; there are sophisticated templating systems; you don't want to emulate them here)\n",
      "\n",
      "\n",
      "simple thing: use american style dates system at the start of filenames?\n",
      "(either way: have some kind of system for naming things that is clear and that will sort well in a folder)\n",
      "\n",
      "\n",
      "Note: probably a good idea to get into the habit of writing reports that are almost in paper-style format\n",
      "...so can make use of nbconvert latex stuff there if needed\n",
      "...so have your own nbconvert template, etc.\n",
      "\n",
      "...maybe have a bibliographic nearby\n",
      "\n",
      "...there my be other useful latex things?\n",
      "\n",
      "\n",
      "\n",
      "Something to sort out: 'outsourcing' analysis things; \n",
      "i.e. have some notebook code that calls some analysis thing\n",
      "(e.g. R stuff)\n",
      "...where you don't want to keep the terminal outputs in the notebook but you do want to \n",
      "keep them somewhere nearby\n",
      "(for these reports could actually keep them in the notebook...)\n",
      "but I'm thinking a useful alternative would be something like output to a text file\n",
      "(you could then, e.g., load in or append or LINK TO (that sounds like best idea) the text file to see the 'raw' analysis / terminal outputs\n",
      "\n",
      "\n",
      "related thing is nipype\n",
      "...and nipype will produce various useful 'reproducibility' things. Might want to think about how / whether to relate to those...\n",
      "(be aware nipype outputs are really not transparent unless you make them that way...)\n",
      "\n",
      "...and I guess also sumatra or lancet, if you are doing sim things\n",
      "\n",
      "this is gettign towards sophisticated stuff. \n",
      "In general need to have a 'in this case I did something complicated and it can be found here' type clause for such things\n",
      "\n",
      "\n",
      "Important note :whilst doing this, can give some example 'just matlab' notebooks, to entice matlab people to using ipynbs for documentation\n",
      "\n",
      "\n",
      "might want to have alternative css options for small /wide screens (?)\n",
      "\n",
      "\n",
      "\n",
      "Different kinds of notebook templates that might be of interest:\n",
      " - Tutorial\n",
      " - Non-data analysis talk (e.g. at conference?)\n",
      " - Something simple for nbviewer / gist\n",
      " - Literature review???\n",
      "\n",
      "\n",
      "\n",
      "\n",
      "Useful information to have at top = approximately how long it takes to run"
     ]
    }
   ],
   "metadata": {}
  }
 ]
}